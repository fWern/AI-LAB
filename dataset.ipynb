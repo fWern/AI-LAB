{
 "cells": [
  {
   "cell_type": "code",
   "execution_count": 1,
   "id": "4e8bce7c",
   "metadata": {},
   "outputs": [],
   "source": [
    "import pandas as pd\n",
    "import re\n",
    "import os"
   ]
  },
  {
   "cell_type": "code",
   "execution_count": 2,
   "id": "a94d8058",
   "metadata": {},
   "outputs": [
    {
     "data": {
      "text/html": [
       "<div>\n",
       "<style scoped>\n",
       "    .dataframe tbody tr th:only-of-type {\n",
       "        vertical-align: middle;\n",
       "    }\n",
       "\n",
       "    .dataframe tbody tr th {\n",
       "        vertical-align: top;\n",
       "    }\n",
       "\n",
       "    .dataframe thead th {\n",
       "        text-align: right;\n",
       "    }\n",
       "</style>\n",
       "<table border=\"1\" class=\"dataframe\">\n",
       "  <thead>\n",
       "    <tr style=\"text-align: right;\">\n",
       "      <th></th>\n",
       "      <th>researchproblem</th>\n",
       "      <th>objective</th>\n",
       "      <th>method</th>\n",
       "      <th>result</th>\n",
       "      <th>conclusion</th>\n",
       "      <th>metatitle</th>\n",
       "      <th>metaauthor</th>\n",
       "      <th>researchfield</th>\n",
       "    </tr>\n",
       "  </thead>\n",
       "  <tbody>\n",
       "    <tr>\n",
       "      <th>0</th>\n",
       "      <td>A shortcoming of these existing assessment mod...</td>\n",
       "      <td>a graded maturity model for scholarly knowledg...</td>\n",
       "      <td>For developing and realizing the KGMM we follo...</td>\n",
       "      <td>Our model comprises 5 maturity stages with 20 ...</td>\n",
       "      <td>We demonstrate the implementation of our model...</td>\n",
       "      <td>KGMM - A Maturity Model for Scholarly Knowledg...</td>\n",
       "      <td>Hassan Hussein, Allard Oelen, Oliver Karras, S...</td>\n",
       "      <td>(\\uri{https://www.orkg.org/orkg/resource/R1121...</td>\n",
       "    </tr>\n",
       "    <tr>\n",
       "      <th>1</th>\n",
       "      <td>crowd-sourcing for scientific knowledge graphs</td>\n",
       "      <td>workflow for authors of scientific documents t...</td>\n",
       "      <td>latex, luatex</td>\n",
       "      <td>score of 79 out of 100 on the System Usability...</td>\n",
       "      <td>SciKGTeX simplifies the process of manual sema...</td>\n",
       "      <td>\\title{SciKGTeX - A \\LaTeX{</td>\n",
       "      <td>\\uri{https://orcid.org/0000-0001-9778-8495, \\u...</td>\n",
       "      <td>(\\uri{https://orkg.org/resource/R278, Informat...</td>\n",
       "    </tr>\n",
       "  </tbody>\n",
       "</table>\n",
       "</div>"
      ],
      "text/plain": [
       "                                     researchproblem  \\\n",
       "0  A shortcoming of these existing assessment mod...   \n",
       "1     crowd-sourcing for scientific knowledge graphs   \n",
       "\n",
       "                                           objective  \\\n",
       "0  a graded maturity model for scholarly knowledg...   \n",
       "1  workflow for authors of scientific documents t...   \n",
       "\n",
       "                                              method  \\\n",
       "0  For developing and realizing the KGMM we follo...   \n",
       "1                                      latex, luatex   \n",
       "\n",
       "                                              result  \\\n",
       "0  Our model comprises 5 maturity stages with 20 ...   \n",
       "1  score of 79 out of 100 on the System Usability...   \n",
       "\n",
       "                                          conclusion  \\\n",
       "0  We demonstrate the implementation of our model...   \n",
       "1  SciKGTeX simplifies the process of manual sema...   \n",
       "\n",
       "                                           metatitle  \\\n",
       "0  KGMM - A Maturity Model for Scholarly Knowledg...   \n",
       "1                        \\title{SciKGTeX - A \\LaTeX{   \n",
       "\n",
       "                                          metaauthor  \\\n",
       "0  Hassan Hussein, Allard Oelen, Oliver Karras, S...   \n",
       "1  \\uri{https://orcid.org/0000-0001-9778-8495, \\u...   \n",
       "\n",
       "                                       researchfield  \n",
       "0  (\\uri{https://www.orkg.org/orkg/resource/R1121...  \n",
       "1  (\\uri{https://orkg.org/resource/R278, Informat...  "
      ]
     },
     "execution_count": 2,
     "metadata": {},
     "output_type": "execute_result"
    }
   ],
   "source": [
    "def get_dataset(file_path):\n",
    "    files = os.listdir(file_path)\n",
    "    \n",
    "    patterns = {\n",
    "        'researchproblem': r'\\\\researchproblem\\*?\\{([^}]*)\\}',\n",
    "        'objective': r'\\\\objective\\*?\\{([^}]*)\\}',\n",
    "        'method': r'\\\\method\\*?\\{([^}]*)\\}',\n",
    "        'result': r'\\\\result\\*?\\{([^}]*)\\}',\n",
    "        'conclusion': r'\\\\conclusion\\*?\\{([^}]*)\\}',\n",
    "        'metatitle': r'\\\\metatitle\\*?\\{([^}]*)\\}',\n",
    "        'metaauthor': r'\\\\metaauthor\\*?\\{([^}]*)\\}',\n",
    "        'researchfield': r'\\\\researchfield\\*?\\{([^}]*)\\}{([^}]*)\\}'\n",
    "    }\n",
    "    \n",
    "    dataset = pd.DataFrame(columns=['researchproblem', 'objective', 'method', 'result', 'conclusion', 'metatitle', 'metaauthor', 'researchfield'])\n",
    "    \n",
    "    for file_name in files:\n",
    "        if os.path.isfile(os.path.join(file_path, file_name)):\n",
    "            row_data = {}\n",
    "            with open(os.path.join(file_path, file_name), 'r', encoding='utf-8') as file:\n",
    "                file_content = file.read()\n",
    "                for keyword, pattern in patterns.items():\n",
    "                    matches = re.findall(pattern, file_content)\n",
    "                    if isinstance(matches[0], tuple):\n",
    "                        item = matches[0]\n",
    "                    else:\n",
    "                        item = ', '.join([match for match in matches])\n",
    "                    row_data[keyword] = item\n",
    "            dataset = dataset.append(row_data, ignore_index=True)\n",
    "    return dataset\n",
    "                    \n",
    "path = \"AI-LAB/annotated_papers/\"\n",
    "get_dataset(path)"
   ]
  },
  {
   "cell_type": "code",
   "execution_count": null,
   "id": "1dba6b36",
   "metadata": {},
   "outputs": [],
   "source": []
  },
  {
   "cell_type": "code",
   "execution_count": null,
   "id": "7291cffd",
   "metadata": {},
   "outputs": [],
   "source": [
    "test = '\\\\researchfield*{\\\\uri{https://www.orkg.org/orkg/resource/R112120}{Digital Libraries}}'\n",
    "pattern = r'\\\\researchfield\\*?\\{([^}]*)\\}{([^}]*)\\}'\n",
    "matches = re.findall(pattern, test)\n",
    "matches[0]"
   ]
  },
  {
   "cell_type": "code",
   "execution_count": null,
   "id": "84bd7abc",
   "metadata": {},
   "outputs": [],
   "source": [
    "test = '\\\\objective{a graded maturity model for scholarly knowledge graphs (KGMM), which specifically focuses on aspects related to the joint, evolutionary curation of knowledge graphs for digital libraries}'\n",
    "pattern = r'\\\\objective\\{([^}]*)\\}'\n",
    "matches = re.findall(pattern, test)\n",
    "matches"
   ]
  },
  {
   "cell_type": "code",
   "execution_count": null,
   "id": "e6ae0fcb",
   "metadata": {},
   "outputs": [],
   "source": [
    "test = \"\\metaauthor{Hassan Hussein} \\metaauthor{Allard Oelen} \\metaauthor{Oliver Karras} \\metaauthor{Sören Auer}\"\n",
    "pattern = r'\\\\metaauthor\\*?\\{([^}]*)\\}'\n",
    "matches = re.findall(pattern, test)\n",
    "matches"
   ]
  },
  {
   "cell_type": "code",
   "execution_count": null,
   "id": "0ed9c922",
   "metadata": {},
   "outputs": [],
   "source": []
  }
 ],
 "metadata": {
  "kernelspec": {
   "display_name": "Python 3 (ipykernel)",
   "language": "python",
   "name": "python3"
  },
  "language_info": {
   "codemirror_mode": {
    "name": "ipython",
    "version": 3
   },
   "file_extension": ".py",
   "mimetype": "text/x-python",
   "name": "python",
   "nbconvert_exporter": "python",
   "pygments_lexer": "ipython3",
   "version": "3.9.7"
  }
 },
 "nbformat": 4,
 "nbformat_minor": 5
}
